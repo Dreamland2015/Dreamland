{
 "cells": [
  {
   "cell_type": "code",
   "execution_count": 7,
   "metadata": {
    "collapsed": false
   },
   "outputs": [],
   "source": [
    "#!/usr/bin/env python\n",
    "# This is gross\n",
    "\n",
    "import math\n",
    "import numpy as np"
   ]
  },
  {
   "cell_type": "code",
   "execution_count": 13,
   "metadata": {
    "collapsed": false
   },
   "outputs": [],
   "source": [
    "def fcPixelLine(per_strand_list, offset):\n",
    "    opc_per = 64\n",
    "    internalOffset = offset\n",
    "    listOfStrings = []\n",
    "\n",
    "    for i, per_strand in enumerate(per_strand_list):\n",
    "        string = '[ 0, %i , %i , %i , \\\"brg\\\" ],' %(internalOffset + per_strand * i, opc_per * i, per_strand)\n",
    "        internalOffset = internalOffset + per_strand\n",
    "        listOfStrings.append(string)\n",
    "    \n",
    "    for string in listOfStrings:\n",
    "        print(string)\n",
    "        \n",
    "    return internalOffset\n"
   ]
  },
  {
   "cell_type": "code",
   "execution_count": 14,
   "metadata": {
    "collapsed": false
   },
   "outputs": [],
   "source": [
    "def ledCombiner(listOfStruct):\n",
    "    listOfNumLeds = []\n",
    "    listOfNumLedsPerStructure = []\n",
    "    \n",
    "    for i, structure in enumerate(listOfStruct):\n",
    "        names = list(structure.keys())\n",
    "        name = names[0]\n",
    "        listOfNumLedsPerStructure.append(len(structure[name][0]))\n",
    "        for numLeds in structure[name][0]:\n",
    "            listOfNumLeds.append(numLeds)\n",
    "\n",
    "    channelCount = len(listOfNumLeds)\n",
    "\n",
    "    return channelCount, listOfNumLedsPerStructure, listOfNumLeds\n"
   ]
  },
  {
   "cell_type": "code",
   "execution_count": 15,
   "metadata": {
    "collapsed": false
   },
   "outputs": [],
   "source": [
    "def fcOPCCounter(listOfStruct, channelScheme, offset, fcCounter):\n",
    "    channelCount, numChannelsStruct, ledPerChannel = ledCombiner(listOfStruct)\n",
    "    \n",
    "    listOfStrings = []\n",
    "    counter = 0\n",
    "    for numChannel in channelScheme:\n",
    "        counterNew = counter + numChannel\n",
    "        numOfLeds = ledPerChannel[counter:counter + numChannel]\n",
    "        counter += numChannel\n",
    "        print('Fadecandy ' + str(fcCounter))\n",
    "        fcCounter += 1\n",
    "        offset = fcPixelLine(numOfLeds, offset)\n",
    "        print()\n",
    "        \n",
    "        \n",
    "    \n",
    "        \n",
    "    return offset, fcCounter"
   ]
  },
  {
   "cell_type": "code",
   "execution_count": 11,
   "metadata": {
    "collapsed": false
   },
   "outputs": [],
   "source": [
    "carousel_top          = {\"carousel_top\"          : [np.ones(18) * 34]}\n",
    "carousel_bottom_lower = {\"carousel_bottom_lower\" : [np.ones(6) * 30]}\n",
    "carousel_bottom_upper = {\"carousel_bottom_upper\" : [np.ones(6) * 6]}\n",
    "inner_bench           = {\"inner bench\"           : [np.array([10, 12])]}\n",
    "outer_bench           = {\"outer bench\"           : [np.array([32, 34, 36])]}\n",
    "kScope                = {\"kScope\"                : [np.array([24])]}\n",
    "lampPost              = {\"lampPost\"              : [np.ones(7) * 19]}\n",
    "\n",
    "buildSequence_1 = [carousel_top]\n",
    "buildSequence_2 = [carousel_bottom_lower, carousel_bottom_upper, inner_bench, inner_bench, inner_bench]\n",
    "buildSequence_3 = [lampPost, lampPost, lampPost]\n",
    "buildSequence_4 = [outer_bench, kScope, outer_bench, kScope, outer_bench, kScope]\n",
    "\n"
   ]
  },
  {
   "cell_type": "code",
   "execution_count": 12,
   "metadata": {
    "collapsed": false
   },
   "outputs": [
    {
     "name": "stdout",
     "output_type": "stream",
     "text": [
      "Fadecandy 0\n",
      "[ 0, 34 , 0 , 34 , \"brg\" ],\n",
      "[ 0, 102 , 64 , 34 , \"brg\" ],\n",
      "[ 0, 170 , 128 , 34 , \"brg\" ],\n",
      "[ 0, 238 , 192 , 34 , \"brg\" ],\n",
      "[ 0, 306 , 256 , 34 , \"brg\" ],\n",
      "[ 0, 374 , 320 , 34 , \"brg\" ],\n",
      "[ 0, 442 , 384 , 34 , \"brg\" ],\n",
      "[ 0, 510 , 448 , 34 , \"brg\" ],\n",
      "\n",
      "Fadecandy 1\n",
      "[ 0, 306 , 0 , 34 , \"brg\" ],\n",
      "[ 0, 374 , 64 , 34 , \"brg\" ],\n",
      "[ 0, 442 , 128 , 34 , \"brg\" ],\n",
      "[ 0, 510 , 192 , 34 , \"brg\" ],\n",
      "[ 0, 578 , 256 , 34 , \"brg\" ],\n",
      "[ 0, 646 , 320 , 34 , \"brg\" ],\n",
      "[ 0, 714 , 384 , 34 , \"brg\" ],\n",
      "[ 0, 782 , 448 , 34 , \"brg\" ],\n",
      "\n",
      "Fadecandy 2\n",
      "[ 0, 578 , 0 , 34 , \"brg\" ],\n",
      "[ 0, 646 , 64 , 34 , \"brg\" ],\n",
      "\n",
      "Fadecandy 3\n",
      "[ 0, 642 , 0 , 30 , \"brg\" ],\n",
      "[ 0, 702 , 64 , 30 , \"brg\" ],\n",
      "[ 0, 762 , 128 , 30 , \"brg\" ],\n",
      "[ 0, 822 , 192 , 30 , \"brg\" ],\n",
      "[ 0, 882 , 256 , 30 , \"brg\" ],\n",
      "[ 0, 942 , 320 , 30 , \"brg\" ],\n",
      "[ 0, 834 , 384 , 6 , \"brg\" ],\n",
      "[ 0, 846 , 448 , 6 , \"brg\" ],\n",
      "\n",
      "Fadecandy 4\n",
      "[ 0, 810 , 0 , 6 , \"brg\" ],\n",
      "[ 0, 822 , 64 , 6 , \"brg\" ],\n",
      "[ 0, 834 , 128 , 6 , \"brg\" ],\n",
      "[ 0, 846 , 192 , 6 , \"brg\" ],\n",
      "\n",
      "Fadecandy 5\n",
      "[ 0, 838 , 0 , 10 , \"brg\" ],\n",
      "[ 0, 862 , 64 , 12 , \"brg\" ],\n",
      "[ 0, 880 , 128 , 10 , \"brg\" ],\n",
      "[ 0, 908 , 192 , 12 , \"brg\" ],\n",
      "[ 0, 922 , 256 , 10 , \"brg\" ],\n",
      "[ 0, 954 , 320 , 12 , \"brg\" ],\n",
      "\n",
      "Fadecandy 6\n",
      "[ 0, 913 , 0 , 19 , \"brg\" ],\n",
      "[ 0, 951 , 64 , 19 , \"brg\" ],\n",
      "[ 0, 989 , 128 , 19 , \"brg\" ],\n",
      "[ 0, 1027 , 192 , 19 , \"brg\" ],\n",
      "[ 0, 1065 , 256 , 19 , \"brg\" ],\n",
      "[ 0, 1103 , 320 , 19 , \"brg\" ],\n",
      "[ 0, 1141 , 384 , 19 , \"brg\" ],\n",
      "\n",
      "Fadecandy 7\n",
      "[ 0, 1046 , 0 , 19 , \"brg\" ],\n",
      "[ 0, 1084 , 64 , 19 , \"brg\" ],\n",
      "[ 0, 1122 , 128 , 19 , \"brg\" ],\n",
      "[ 0, 1160 , 192 , 19 , \"brg\" ],\n",
      "[ 0, 1198 , 256 , 19 , \"brg\" ],\n",
      "[ 0, 1236 , 320 , 19 , \"brg\" ],\n",
      "[ 0, 1274 , 384 , 19 , \"brg\" ],\n",
      "\n",
      "Fadecandy 8\n",
      "[ 0, 1179 , 0 , 19 , \"brg\" ],\n",
      "[ 0, 1217 , 64 , 19 , \"brg\" ],\n",
      "[ 0, 1255 , 128 , 19 , \"brg\" ],\n",
      "[ 0, 1293 , 192 , 19 , \"brg\" ],\n",
      "[ 0, 1331 , 256 , 19 , \"brg\" ],\n",
      "[ 0, 1369 , 320 , 19 , \"brg\" ],\n",
      "[ 0, 1407 , 384 , 19 , \"brg\" ],\n",
      "\n",
      "Fadecandy 9\n",
      "[ 0, 1325 , 0 , 32 , \"brg\" ],\n",
      "[ 0, 1393 , 64 , 34 , \"brg\" ],\n",
      "[ 0, 1467 , 128 , 36 , \"brg\" ],\n",
      "[ 0, 1491 , 192 , 24 , \"brg\" ],\n",
      "\n",
      "Fadecandy 10\n",
      "[ 0, 1451 , 0 , 32 , \"brg\" ],\n",
      "[ 0, 1519 , 64 , 34 , \"brg\" ],\n",
      "[ 0, 1593 , 128 , 36 , \"brg\" ],\n",
      "[ 0, 1617 , 192 , 24 , \"brg\" ],\n",
      "\n",
      "Fadecandy 11\n",
      "[ 0, 1577 , 0 , 32 , \"brg\" ],\n",
      "[ 0, 1645 , 64 , 34 , \"brg\" ],\n",
      "[ 0, 1719 , 128 , 36 , \"brg\" ],\n",
      "[ 0, 1743 , 192 , 24 , \"brg\" ],\n",
      "\n"
     ]
    }
   ],
   "source": [
    "offset = 0\n",
    "fcCounter = 0\n",
    "offset, fcCounter = fcOPCCounter(buildSequence_1, [8,8,2], offset, fcCounter)\n",
    "offset, fcCounter = fcOPCCounter(buildSequence_2, [8,4,6], offset, fcCounter)\n",
    "offset, fcCounter = fcOPCCounter(buildSequence_3, [7,7,7], offset, fcCounter)\n",
    "offset, fcCounter = fcOPCCounter(buildSequence_4, [4,4,4], offset, fcCounter)"
   ]
  },
  {
   "cell_type": "code",
   "execution_count": null,
   "metadata": {
    "collapsed": false
   },
   "outputs": [],
   "source": []
  },
  {
   "cell_type": "code",
   "execution_count": null,
   "metadata": {
    "collapsed": false
   },
   "outputs": [],
   "source": []
  }
 ],
 "metadata": {
  "kernelspec": {
   "display_name": "Python 3",
   "language": "python",
   "name": "python3"
  },
  "language_info": {
   "codemirror_mode": {
    "name": "ipython",
    "version": 3
   },
   "file_extension": ".py",
   "mimetype": "text/x-python",
   "name": "python",
   "nbconvert_exporter": "python",
   "pygments_lexer": "ipython3",
   "version": "3.4.3"
  }
 },
 "nbformat": 4,
 "nbformat_minor": 0
}
